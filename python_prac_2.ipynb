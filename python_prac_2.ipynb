{
  "cells": [
    {
      "cell_type": "markdown",
      "metadata": {
        "id": "view-in-github",
        "colab_type": "text"
      },
      "source": [
        "<a href=\"https://colab.research.google.com/github/IT-Schnitzel/Python/blob/main/python_prac_2.ipynb\" target=\"_parent\"><img src=\"https://colab.research.google.com/assets/colab-badge.svg\" alt=\"Open In Colab\"/></a>"
      ]
    },
    {
      "cell_type": "markdown",
      "metadata": {
        "id": "M2IDhC6cq6eQ"
      },
      "source": [
        "# Практические занятие №3-4"
      ]
    },
    {
      "cell_type": "markdown",
      "metadata": {
        "id": "wzb65LE3_ZEo"
      },
      "source": []
    },
    {
      "cell_type": "markdown",
      "metadata": {
        "id": "6ceXryj5q6eS"
      },
      "source": [
        "## 1. Форматирование кода"
      ]
    },
    {
      "cell_type": "code",
      "execution_count": null,
      "metadata": {
        "id": "ZCHj-8FN9__i",
        "outputId": "67414747-9acd-422b-9580-0ad01f999e77"
      },
      "outputs": [
        {
          "name": "stdout",
          "output_type": "stream",
          "text": [
            "Collecting flake8\n",
            "  Downloading flake8-7.1.2-py2.py3-none-any.whl.metadata (3.8 kB)\n",
            "Collecting pycodestyle_magic\n",
            "  Downloading pycodestyle_magic-0.5-py2.py3-none-any.whl.metadata (322 bytes)\n",
            "Collecting mccabe<0.8.0,>=0.7.0 (from flake8)\n",
            "  Downloading mccabe-0.7.0-py2.py3-none-any.whl.metadata (5.0 kB)\n",
            "Collecting pycodestyle<2.13.0,>=2.12.0 (from flake8)\n",
            "  Downloading pycodestyle-2.12.1-py2.py3-none-any.whl.metadata (4.5 kB)\n",
            "Collecting pyflakes<3.3.0,>=3.2.0 (from flake8)\n",
            "  Downloading pyflakes-3.2.0-py2.py3-none-any.whl.metadata (3.5 kB)\n",
            "Downloading flake8-7.1.2-py2.py3-none-any.whl (57 kB)\n",
            "Downloading pycodestyle_magic-0.5-py2.py3-none-any.whl (9.5 kB)\n",
            "Downloading mccabe-0.7.0-py2.py3-none-any.whl (7.3 kB)\n",
            "Downloading pycodestyle-2.12.1-py2.py3-none-any.whl (31 kB)\n",
            "Downloading pyflakes-3.2.0-py2.py3-none-any.whl (62 kB)\n",
            "Installing collected packages: pycodestyle_magic, pyflakes, pycodestyle, mccabe, flake8\n",
            "Successfully installed flake8-7.1.2 mccabe-0.7.0 pycodestyle-2.12.1 pycodestyle_magic-0.5 pyflakes-3.2.0\n",
            "\n",
            "\u001b[1m[\u001b[0m\u001b[34;49mnotice\u001b[0m\u001b[1;39;49m]\u001b[0m\u001b[39;49m A new release of pip is available: \u001b[0m\u001b[31;49m24.3.1\u001b[0m\u001b[39;49m -> \u001b[0m\u001b[32;49m25.0.1\u001b[0m\n",
            "\u001b[1m[\u001b[0m\u001b[34;49mnotice\u001b[0m\u001b[1;39;49m]\u001b[0m\u001b[39;49m To update, run: \u001b[0m\u001b[32;49mpip3 install --upgrade pip\u001b[0m\n",
            "Note: you may need to restart the kernel to use updated packages.\n"
          ]
        }
      ],
      "source": [
        "# установка библиотеки для проверки кода на соответствие PEP8\n",
        "%pip install flake8 pycodestyle_magic"
      ]
    },
    {
      "cell_type": "code",
      "execution_count": null,
      "metadata": {
        "id": "w07XRIGd-CsR",
        "outputId": "592e446f-64d8-4084-eacf-b8544718f31d"
      },
      "outputs": [
        {
          "name": "stdout",
          "output_type": "stream",
          "text": [
            "The pycodestyle_magic extension is already loaded. To reload it, use:\n",
            "  %reload_ext pycodestyle_magic\n"
          ]
        }
      ],
      "source": [
        "# теперь код будет проверяться на соответствие PEP8\n",
        "%load_ext pycodestyle_magic\n",
        "%pycodestyle_on"
      ]
    },
    {
      "cell_type": "markdown",
      "metadata": {
        "id": "ipsb84WAq6eU"
      },
      "source": [
        "**1.1.** (0 баллов)\n",
        "\n",
        "Приведите примеры кода, которые соответствуют нарушениям PEP 8. Для самостоятельной проверки возможно использовать библиотеки [pycodestyle](https://github.com/PyCQA/pycodestyle) для разных сред или [pycodestyle_magic](https://github.com/mattijn/pycodestyle_magic?ysclid=lel3nqbij481632022) для интерактивной среды Jupyter Notebook.\n",
        "\n",
        "1. `E211 whitespace before '('`\n",
        "\n",
        "2. `E225 missing whitespace around operator`\n",
        "\n",
        "3. `E231 missing whitespace after ','`\n",
        "\n",
        "4. `E251 unexpected spaces around keyword / parameter equals`\n",
        "\n",
        "5. `E302 expected 2 blank lines, found 1`\n",
        "\n",
        "6. `E701 multiple statements on one line (colon)`\n",
        "\n",
        "7. `E702 multiple statements on one line (semicolon)`\n",
        "\n",
        "8. `E711 comparison to None should be 'if cond is None:'`\n",
        "\n",
        "9. `E712 comparison to True should be 'if cond is True:' or 'if cond:'`"
      ]
    },
    {
      "cell_type": "markdown",
      "metadata": {
        "id": "mE35en_zq6eW"
      },
      "source": [
        "## 2. Некоторые особенности языка"
      ]
    },
    {
      "cell_type": "markdown",
      "metadata": {
        "id": "LXH4BRjyq6eW"
      },
      "source": [
        "**2.1.** (0 баллов)\n",
        "\n",
        "Объясните, что это за код. Это Питон?\n",
        "\n",
        "```0xfor _ in 'abc'```"
      ]
    },
    {
      "cell_type": "markdown",
      "metadata": {
        "id": "6QHkpy0rq6eY"
      },
      "source": [
        "**2.2.** (0 баллов)\n",
        "\n",
        "Странные результаты приведены ниже. Как такое возможно?"
      ]
    },
    {
      "cell_type": "code",
      "execution_count": null,
      "metadata": {
        "colab": {
          "base_uri": "https://localhost:8080/"
        },
        "id": "gTuc0Qsbq6eZ",
        "outputId": "5c56d2b3-f153-4860-aa0f-8ca41589d75b"
      },
      "outputs": [
        {
          "name": "stdout",
          "output_type": "stream",
          "text": [
            "True False\n"
          ]
        }
      ],
      "source": [
        "a = 1\n",
        "b = 1\n",
        "c = 300000  # проверено в Python v3.11\n",
        "d = 300000\n",
        "print(a is b, c is d)"
      ]
    },
    {
      "cell_type": "code",
      "execution_count": null,
      "metadata": {
        "id": "1VpB7_DRq6eb",
        "outputId": "f389133c-39ea-4f46-f1f3-603e2d85c5d4"
      },
      "outputs": [
        {
          "name": "stdout",
          "output_type": "stream",
          "text": [
            "True True False\n"
          ]
        }
      ],
      "source": [
        "a, b = 'py', 'py'\n",
        "c = ''.join(['p', 'y'])\n",
        "print(a is b, a == c, a is c)"
      ]
    },
    {
      "cell_type": "markdown",
      "metadata": {
        "id": "BlwFusd3q6ec"
      },
      "source": [
        "**2.3.** (0.1 балла)\n",
        "\n",
        "В следующем фрагменте по индексу i выбирается одна из трех строк. Сократите код во второй строке **ровно** до 19 символов без использования функций и методов."
      ]
    },
    {
      "cell_type": "code",
      "execution_count": null,
      "metadata": {
        "colab": {
          "base_uri": "https://localhost:8080/",
          "height": 35
        },
        "id": "MIQRpZP-q6ee",
        "outputId": "1155a1c1-08ae-4de7-c695-06e5db27fabf"
      },
      "outputs": [
        {
          "data": {
            "text/plain": [
              "'much'"
            ]
          },
          "execution_count": 11,
          "metadata": {},
          "output_type": "execute_result"
        }
      ],
      "source": [
        "i = 0\n",
        "'muchcodewow'[:i+4]"
      ]
    },
    {
      "cell_type": "markdown",
      "metadata": {
        "id": "-nYCGqEHq6ef"
      },
      "source": [
        "## 3. Однострочники\n",
        "\n",
        "Напишите программы-однострочники для следующих задач. Начните с наивных решений и постепенно двигайтесь в сторону решений кратких и изящных. Определитесь, в каких случаях решение-однострочник является предпочтительным, а в каких – нет."
      ]
    },
    {
      "cell_type": "markdown",
      "metadata": {
        "id": "w5W5qo1wq6eg"
      },
      "source": [
        "**3.1.** (0.1 балла)\n",
        "\n",
        "Преобразовать элементы списка s из строковой в числовую форму.\n",
        "\n",
        "**3.2.** (0.1 балла)\n",
        "\n",
        "Подсчитать количество различных элементов в последовательности s.\n",
        "\n",
        "**3.3.** (0.1 балла)\n",
        "\n",
        "Обратить последовательность s без использования функций.\n",
        "\n",
        "**3.4.** (0.1 балла)\n",
        "\n",
        "Выдать список индексов, на которых найден элемент x в последовательности s.\n",
        "\n",
        "**3.5.** (0.1 балла)\n",
        "\n",
        "Сложить элементы списка s с четными индексами.\n",
        "\n",
        "**3.6.** (0.1 балла)\n",
        "\n",
        "Найти строку максимальной длины в списке строк s.\n",
        "\n",
        "**3.7.** (0.1 балла)\n",
        "\n",
        "Проверить, относится ли число к числам харшад (делящиеся нацело на сумму своих цифр).\n",
        "\n",
        "**3.8.** (0.2 балла)\n",
        "\n",
        "Реализовать функцию-однострочник для [RLE-сжатия](https://ru.wikipedia.org/wiki/%D0%9A%D0%BE%D0%B4%D0%B8%D1%80%D0%BE%D0%B2%D0%B0%D0%BD%D0%B8%D0%B5_%D0%B4%D0%BB%D0%B8%D0%BD_%D1%81%D0%B5%D1%80%D0%B8%D0%B9). Разрешается использование модуля [itertools](https://docs.python.org/3/library/itertools.html). Пример работы:\n",
        "\n",
        "```Python\n",
        ">>> rle_encode('ABBCCCDEF')\n",
        "[('A', 1), ('B', 2), ('C', 3), ('D', 1), ('E', 1), ('F', 1)]\n",
        "```"
      ]
    },
    {
      "cell_type": "code",
      "execution_count": null,
      "metadata": {
        "id": "Pt9e90T1T4dK",
        "outputId": "72809a11-6bcd-4af9-a057-6e7d4cefafa3"
      },
      "outputs": [
        {
          "name": "stderr",
          "output_type": "stream",
          "text": [
            "13:5: E731 do not assign a lambda expression, use a def\n"
          ]
        }
      ],
      "source": [
        "def task3():\n",
        "    print(list(map(int, ['1', '2', '3', '4'])))  # 31\n",
        "    print(len({1, 2, 2, 3, 3, 3}))  # 32\n",
        "    print([1, 2, 3, 4, 5][::-1])  # 33\n",
        "    print([i for i, v in enumerate([1, 2, 3, 2, 4, 2]) if v == 2])  # 34\n",
        "    print(sum(v for i, v in enumerate([1, 2, 3, 4, 5, 6]) if i % 2 == 0))  # 35\n",
        "    print(max(['apple', 'banana', 'kiwi', 'orange'], key=len))  # 36\n",
        "    n = 10\n",
        "    print(n % sum(map(int, str(n))) == 0)  # 37\n",
        "\n",
        "    from itertools import groupby\n",
        "\n",
        "    rle_encode = lambda s: [(k, len(list(g))) for k, g in groupby(s)]\n",
        "    print(rle_encode('ABBCCCDF'))  # 38"
      ]
    },
    {
      "cell_type": "markdown",
      "metadata": {
        "id": "JN8xBeiKxpie"
      },
      "source": [
        "## 4. Снова математика..."
      ]
    },
    {
      "cell_type": "markdown",
      "metadata": {
        "id": "eBbHgKBP2Ckg"
      },
      "source": [
        "**4.1.** (0.2 балла)\n",
        "\n",
        "Реализовать функцию, вычисляющую поэлементное произведение матриц ([произведение Адамара](https://ru.wikipedia.org/wiki/%D0%9F%D1%80%D0%BE%D0%B8%D0%B7%D0%B2%D0%B5%D0%B4%D0%B5%D0%BD%D0%B8%D0%B5_%D0%90%D0%B4%D0%B0%D0%BC%D0%B0%D1%80%D0%B0)):\n",
        "\n",
        "$$\n",
        "\\begin{align}\n",
        "\\mathrm{multiply}(\\mathbf{A}, \\mathbf{B}) = \\mathbf{A} \\odot \\mathbf{B},\n",
        "\\end{align}\n",
        "$$\n",
        "\n",
        "вычислить значение функции при:\n",
        "\n",
        "$\n",
        "\\mathbf{A} = \\left(\n",
        "\\begin{matrix}\n",
        "    0 & 2 \\\\\n",
        "    3 & 0\n",
        "\\end{matrix}\n",
        "\\right),\n",
        "\\mathbf{B} = \\left(\n",
        "\\begin{matrix}\n",
        "    1 & 4 \\\\\n",
        "    2 & 0\n",
        "\\end{matrix}\n",
        "\\right)\n",
        "$.\n",
        "\n",
        "Внешний тест:\n",
        "\n",
        "*   $multiply(\\mathbf{A},\\mathbf{B}) = [[0, 8], [6, 0]]$"
      ]
    },
    {
      "cell_type": "code",
      "execution_count": null,
      "metadata": {
        "id": "9UrtOKHuT4dQ",
        "outputId": "4f060e23-772c-406e-e7b8-a2c17b174abc"
      },
      "outputs": [
        {
          "name": "stdout",
          "output_type": "stream",
          "text": [
            "[7, 16, 27]\n",
            "[40, 55, 72]\n"
          ]
        }
      ],
      "source": [
        "def elementwise_product(matrix1, matrix2):\n",
        "    if len(matrix1) != len(matrix2) or len(matrix1[0]) != len(matrix2[0]):\n",
        "        raise ValueError(\"Матрицы должны быть одинакового размера.\")\n",
        "\n",
        "    result = []\n",
        "\n",
        "    for i in range(len(matrix1)):\n",
        "        row = []\n",
        "        for j in range(len(matrix1[0])):\n",
        "            row.append(matrix1[i][j] * matrix2[i][j])\n",
        "        result.append(row)\n",
        "\n",
        "    return result\n",
        "\n",
        "\n",
        "matrix1 = [\n",
        "    [1, 2, 3],\n",
        "    [4, 5, 6]\n",
        "]\n",
        "\n",
        "matrix2 = [\n",
        "    [7, 8, 9],\n",
        "    [10, 11, 12]\n",
        "]\n",
        "\n",
        "result = elementwise_product(matrix1, matrix2)\n",
        "for row in result:\n",
        "    print(row)"
      ]
    },
    {
      "cell_type": "markdown",
      "metadata": {
        "id": "TVrnE5gaasL9"
      },
      "source": [
        "**4.2.** (0.2 балла)\n",
        "\n",
        "Реализовать функцию, транспонирующую матрицу:\n",
        "\n",
        "$$\n",
        "\\begin{align}\n",
        "\\mathrm{transpose}(\\mathbf{A}) = \\mathbf{A}^T,\n",
        "\\end{align}\n",
        "$$\n",
        "\n",
        "вычислить значение функции при:\n",
        "\n",
        "$\n",
        "\\mathbf{A} = \\left(\n",
        "\\begin{matrix}\n",
        "    0 & 2 & 1 \\\\\n",
        "    1 & 0 & 3 \\\\\n",
        "    0 & 1 & 1\n",
        "\\end{matrix}\n",
        "\\right)\n",
        "$.\n",
        "\n",
        "Элемент матрицы $\\mathbf{C}=\\mathrm{transpose}(\\mathbf{A})$ с индексами $ij$ вычисляют согласно: $\n",
        "{\\displaystyle c_{ij}=a_{ji}}.\n",
        "$\n",
        "\n",
        "Внешний тест:\n",
        "\n",
        "*   $transpose(\\mathbf{A}) = [[0, 1, 0], [2, 0, 1], [1, 3, 1]]$"
      ]
    },
    {
      "cell_type": "code",
      "execution_count": null,
      "metadata": {
        "id": "vhNgEmN7T4dU",
        "outputId": "b793954f-0912-4874-b607-d258ac3d2c91"
      },
      "outputs": [
        {
          "name": "stdout",
          "output_type": "stream",
          "text": [
            "[0, 2, 1]\n",
            "[1, 0, 3]\n",
            "[0, 1, 1]\n"
          ]
        }
      ],
      "source": [
        "def transpose(matrix):\n",
        "    transposed = []\n",
        "\n",
        "    for j in range(len(matrix[0])):\n",
        "        row = []\n",
        "        for i in range(len(matrix)):\n",
        "            row.append(matrix[i][j])\n",
        "        transposed.append(row)\n",
        "\n",
        "    return transposed\n",
        "\n",
        "\n",
        "matrix = [\n",
        "    [0, 1, 0],\n",
        "    [2, 0, 1],\n",
        "    [1, 3, 1]\n",
        "]\n",
        "\n",
        "result = transpose(matrix)\n",
        "for row in result:\n",
        "    print(row)"
      ]
    },
    {
      "cell_type": "markdown",
      "metadata": {
        "id": "-Xy_IduP25vL"
      },
      "source": [
        "**4.3.** (0.3 балла)\n",
        "\n",
        "Реализовать функцию, вычисляющую произведение матриц:\n",
        "\n",
        "$$\n",
        "\\begin{align}\n",
        "\\mathrm{dot}(\\mathbf{A}, \\mathbf{B}) = \\mathbf{A} \\mathbf{B},\n",
        "\\end{align}\n",
        "$$\n",
        "\n",
        "вычислить значение функции при:\n",
        "\n",
        "$\n",
        "\\mathbf{A} = \\left(\n",
        "\\begin{matrix}\n",
        "    1 & 2 \\\\\n",
        "    3 & 4 \\\\\n",
        "    5 & 6\n",
        "\\end{matrix}\n",
        "\\right),\n",
        "\\mathbf{B} = \\left(\n",
        "\\begin{matrix}\n",
        "    1 & 2 & 3 \\\\\n",
        "    4 & 5 & 6\n",
        "\\end{matrix}\n",
        "\\right)\n",
        "$.\n",
        "\n",
        "Элемент матрицы $\\mathbf{C}=\\mathrm{dot}(\\mathbf{A}, \\mathbf{B})$ с индексами $ij$ вычисляют согласно:\n",
        "\n",
        "$$\n",
        "{\\displaystyle c_{ij}=a_{i1}b_{1j}+a_{i2}b_{2j}+\\cdots +a_{in}b_{nj}=\\sum _{k=1}^{n}a_{ik}b_{kj}.}\n",
        "$$\n",
        "\n",
        "Внешний тест:\n",
        "\n",
        "*   $dot(\\mathbf{A},\\mathbf{B}) = [[9, 12, 15], [19, 26, 33], [29, 40, 51]]$"
      ]
    },
    {
      "cell_type": "code",
      "execution_count": null,
      "metadata": {
        "id": "mFLOGwO6T4dY",
        "outputId": "6831d082-f0bd-4408-cbc3-1fe2c1cd521a"
      },
      "outputs": [
        {
          "name": "stdout",
          "output_type": "stream",
          "text": [
            "[19, 22, 23]\n",
            "[43, 50, 49]\n"
          ]
        }
      ],
      "source": [
        "def matrix_multiply(matrix1, matrix2):\n",
        "    if len(matrix1[0]) != len(matrix2):\n",
        "        err = 'Кол-во столбцов 1 матрицы не равно кол-ву строк 2 матрицы.'\n",
        "        raise ValueError(err)\n",
        "\n",
        "    result = [[0] * len(matrix2[0]) for _ in range(len(matrix1))]\n",
        "\n",
        "    for i in range(len(matrix1)):\n",
        "        for j in range(len(matrix2[0])):\n",
        "            for k in range(len(matrix2)):\n",
        "                result[i][j] += matrix1[i][k] * matrix2[k][j]\n",
        "\n",
        "    return result\n",
        "\n",
        "\n",
        "matrix1 = [\n",
        "    [1, 2],\n",
        "    [3, 4]\n",
        "]\n",
        "\n",
        "matrix2 = [\n",
        "    [5, 6, 3],\n",
        "    [7, 8, 10]\n",
        "]\n",
        "\n",
        "result = matrix_multiply(matrix1, matrix2)\n",
        "for row in result:\n",
        "    print(row)"
      ]
    },
    {
      "cell_type": "markdown",
      "metadata": {
        "id": "Iq08PRBBq6eh"
      },
      "source": [
        "## 5. Ассорти из небольших задач"
      ]
    },
    {
      "cell_type": "markdown",
      "metadata": {
        "id": "Ntjk6El6q6eh"
      },
      "source": [
        "**5.1.** (0.2 балла)\n",
        "\n",
        "Напишите функцию generate_groups(), которая компактно генерирует (а не просто выдает готовый) список всех названий групп в том виде, который используется на сайте [ЦАП](https://kispython.ru/).\n",
        "\n",
        "```Python\n",
        "['ИВБО-01-22', 'ИВБО-02-22', 'ИВБО-03-22', 'ИВБО-04-22', 'ИВБО-05-22', 'ИВБО-06-22', 'ИВБО-07-22', 'ИВБО-08-22', 'ИКБО-01-22', 'ИКБО-02-22', ...]\n",
        "```"
      ]
    },
    {
      "cell_type": "code",
      "execution_count": null,
      "metadata": {
        "id": "RsFjBcsvT4dd",
        "outputId": "0c9fcad5-d79f-45cc-b5db-9eee526a4198"
      },
      "outputs": [
        {
          "name": "stdout",
          "output_type": "stream",
          "text": [
            "ИВБО\n",
            "ИВБО-10-23 ИВБО-11-23 ИВБО-12-23 ИВБО-13-23 ИВБО-20-23 ИВБО-21-23 ИВБО-22-23\n",
            "ИKБО\n",
            "ИКБО-10-22 ИКБО-10-23 ИКБО-11-23 ИКБО-12-23 ИКБО-13-23 ИКБО-14-23 ИКБО-15-23 ИКБО-20-23\n",
            "ИКБО-21-23 ИКБО-22-23 ИКБО-24-22 ИКБО-34-22 ИКБО-40-23 ИКБО-41-23 ИКБО-42-23 ИКБО-43-23\n",
            "ИКБО-50-23 ИКБО-51-23 ИКБО-52-23 ИКБО-60-23 ИКБО-61-23 ИКБО-62-23 ИКБО-63-23 ИКБО-64-23\n",
            "ИКБО-65-23 ИКБО-66-23 ИКБО-67-23 ИКБО-68-23 ИКБО-70-23 ИКБО-71-23 ИКБО-72-23 ИКБО-73-23\n",
            "ИКБО-74-23 ИКБО-75-23 ИКБО-76-23\n",
            "ИМБО\n",
            "ИМБО-10-23 ИМБО-11-23\n",
            "ИНБО\n",
            "ИНБО-10-23 ИНБО-11-23 ИНБО-12-23 ИНБО-13-23 ИНБО-20-23 ИНБО-21-23 ИНБО-22-23 ИНБО-23-23\n",
            "ИНБО-30-23 ИНБО-31-23 ИНБО-32-23 ИНБО-33-23\n"
          ]
        }
      ],
      "source": [
        "def generate_groups():\n",
        "    IVBO = []\n",
        "    print(\"ИВБО\")\n",
        "    for i in range(4):\n",
        "        IVBO.append(f\"ИВБО-1{i}-23\")\n",
        "    for i in range(3):\n",
        "        IVBO.append(f\"ИВБО-2{i}-23\")\n",
        "    print(*IVBO)\n",
        "\n",
        "    print(\"ИKБО\")\n",
        "    IBKO1X = []\n",
        "    IBKO1X.append(\"ИКБО-10-22\")\n",
        "    for i in range(6):\n",
        "        IBKO1X.append(f\"ИКБО-1{i}-23\")\n",
        "    IBKO1X.append(f\"ИКБО-20-23\")\n",
        "    print(*IBKO1X)\n",
        "    IKBO2X = []\n",
        "    for i in range(1, 3):\n",
        "        IKBO2X.append(f\"ИКБО-2{i}-23\")\n",
        "    IKBO2X.append(f\"ИКБО-24-22\")\n",
        "    IKBO2X.append(f\"ИКБО-34-22\")\n",
        "    for i in range(4):\n",
        "        IKBO2X.append(f\"ИКБО-4{i}-23\")\n",
        "    print(*IKBO2X)\n",
        "\n",
        "    IKBO3X = []\n",
        "    for i in range(3):\n",
        "        IKBO3X.append(f\"ИКБО-5{i}-23\")\n",
        "    for i in range(5):\n",
        "        IKBO3X.append(f\"ИКБО-6{i}-23\")\n",
        "    print(*IKBO3X)\n",
        "    IKBO4X = []\n",
        "    for i in range(5, 9):\n",
        "        IKBO4X.append(f\"ИКБО-6{i}-23\")\n",
        "    for i in range(4):\n",
        "        IKBO4X.append(f\"ИКБО-7{i}-23\")\n",
        "    print(*IKBO4X)\n",
        "    IKBO5X = []\n",
        "    for i in range(4, 7):\n",
        "        IKBO5X.append(f\"ИКБО-7{i}-23\")\n",
        "    print(*IKBO5X)\n",
        "\n",
        "    print('ИМБО')\n",
        "    IMBO = []\n",
        "    for i in range(2):\n",
        "        IMBO.append(f\"ИМБО-1{i}-23\")\n",
        "    print(*IMBO)\n",
        "\n",
        "    print('ИНБО')\n",
        "    INBO1X = []\n",
        "    for i in range(4):\n",
        "        INBO1X.append(f\"ИНБО-1{i}-23\")\n",
        "    for i in range(4):\n",
        "        INBO1X.append(f\"ИНБО-2{i}-23\")\n",
        "    print(*INBO1X)\n",
        "    INBO2X = []\n",
        "    for i in range(4):\n",
        "        INBO2X.append(f\"ИНБО-3{i}-23\")\n",
        "    print(*INBO2X)\n",
        "\n",
        "\n",
        "generate_groups()"
      ]
    },
    {
      "cell_type": "markdown",
      "metadata": {
        "id": "3-ezDHy3q6ei"
      },
      "source": [
        "**5.2.** (0.2 балла)\n",
        "\n",
        "Реализуйте свою версию print(). Постарайтесь использовать максимум возможностей настоящей [print()](https://docs-python.ru/tutorial/vstroennye-funktsii-interpretatora-python/funktsija-print/). Для вывода используйте функцию [sys.stdout.write()](https://russianblogs.com/article/93851323762/)."
      ]
    },
    {
      "cell_type": "code",
      "execution_count": null,
      "metadata": {
        "id": "SPjmhDaTT4di",
        "outputId": "e2138ec7-fc37-4143-90e5-83b655ca9ecd"
      },
      "outputs": [
        {
          "name": "stdout",
          "output_type": "stream",
          "text": [
            "Hello lmfao!\n",
            "Test;;real!?SD???dfsf!!\n",
            "1-this-is-an-integer-2-this-is-an-integer-3\n",
            "This is a test\n",
            "True\n",
            "Z\n",
            "V\n"
          ]
        }
      ],
      "source": [
        "import sys\n",
        "\n",
        "\n",
        "def my_print(*args, sep=' ', end='\\n', file=sys.stdout, flush=False):\n",
        "    output = sep.join(map(str, args)) + end\n",
        "    file.write(output)\n",
        "    if flush:\n",
        "        file.flush()\n",
        "\n",
        "\n",
        "my_print(\"Hello\", \"lmfao!\")\n",
        "my_print(\"Test\", \"real\", sep=';;', end=\"!?SD???dfsf!!\\n\")\n",
        "my_print(1, 2, 3, sep=\"-this-is-an-integer-\", end=\"\\n\")\n",
        "my_print(\"This is a test\")\n",
        "my_print(True)\n",
        "my_print(\"Z\\nV\")\n",
        "with open('output.txt', 'w') as f:\n",
        "    my_print(\"In file\", file=f)"
      ]
    },
    {
      "cell_type": "markdown",
      "metadata": {
        "id": "X80sh3oWq6ei"
      },
      "source": [
        "**5.3.** (0.4 балла)\n",
        "\n",
        "Вы получили зашифрованное сообщение и теперь предстоит его расшифровать:\n",
        "\n",
        "```\n",
        "E3238557 6204A1F8 E6537611 174E5747\n",
        "5D954DA8 8C2DFE97 2911CB4C 2CB7C66B\n",
        "E7F185A0 C7E3FA40 42419867 374044DF\n",
        "2519F07D 5A0C24D4 F4A960C5 31159418\n",
        "F2768EC7 AEAF14CF 071B2C95 C9F22699\n",
        "FFB06F41 2AC90051 A53F035D 830601A7\n",
        "EB475702 183BAA6F 12626744 9B75A72F\n",
        "8DBFBFEC 73C1A46E FFB06F41 2AC90051\n",
        "97C5E4E9 B1C26A21 DD4A3463 6B71162F\n",
        "8C075668 7975D565 6D95A700 7272E637\n",
        "```\n",
        "\n",
        "Известно, что для зашифрования использовался алгоритм TEA. Известен также ключ зашифрования/расшифрования:\n",
        "\n",
        "```\n",
        "k = [0, 4, 5, 1]\n",
        "```\n",
        "\n",
        "Имеется и функция на C/C++ для расшифровки данных (v – слова данных, k – ключ):\n",
        "\n",
        "```C\n",
        "void decrypt(uint32_t v[2], const uint32_t k[4]) {\n",
        "    uint32_t v0 = v[0], v1 = v[1], sum = 0xC6EF3720, i;\n",
        "    uint32_t delta = 0x9E3779B9;\n",
        "    uint32_t k0 = k[0], k1 = k[1], k2 = k[2], k3 = k[3];\n",
        "    for (i = 0; i < 32; i++) {\n",
        "        v1 -= ((v0 << 4) + k2) ^ (v0 + sum) ^ ((v0 >> 5) + k3);\n",
        "        v0 -= ((v1 << 4) + k0) ^ (v1 + sum) ^ ((v1 >> 5) + k1);\n",
        "        sum -= delta;\n",
        "    }\n",
        "    v[0] = v0; v[1] = v1;\n",
        "}\n",
        "```\n",
        "\n",
        "Остается перевести функцию decrypt на Питон и узнать, что же содержится в зашифрованном сообщении!"
      ]
    },
    {
      "cell_type": "code",
      "execution_count": null,
      "metadata": {
        "id": "N48y6P1xT4dn"
      },
      "outputs": [],
      "source": []
    },
    {
      "cell_type": "markdown",
      "metadata": {
        "id": "-tEk6o2tq6em"
      },
      "source": [
        "## 6. Генераторы текстов"
      ]
    },
    {
      "cell_type": "markdown",
      "metadata": {
        "id": "nYoueaUcq6em"
      },
      "source": [
        "**6.1.** (0.3 балла)\n",
        "\n",
        "Реализуйте генератор докладов по цифровой экономике. Данные для генерации извлекаются из таблицы:\n",
        "\n",
        "<table>\n",
        "<tr>\n",
        "<th>1</th>\n",
        "<th>2</th>\n",
        "<th>3</th>\n",
        "<th>4</th>\n",
        "<th>5</th>\n",
        "</tr>\n",
        "<tr>\n",
        "<td>Коллеги,</td>\n",
        "<td>парадигма цифровой экономики</td>\n",
        "<td>открывает новые возможности для</td>\n",
        "<td>дальнейшего углубления</td>\n",
        "<td>знаний и компетенций.</td>\n",
        "</tr>\n",
        "<tr>\n",
        "<td>В то же время,</td>\n",
        "<td>контекст цифровой трансформации</td>\n",
        "<td>выдвигает новые требования</td>\n",
        "<td>бюджетного финансирования</td>\n",
        "<td>непроверенных гипотез.</td>\n",
        "</tr>\n",
        "<tr>\n",
        "<td>Однако,</td>\n",
        "<td>диджитализация бизнес-процессов</td>\n",
        "<td>несёт в себе риски</td>\n",
        "<td>синергетического эффекта</td>\n",
        "<td>волатильных активов.</td>\n",
        "</tr>\n",
        "<tr>\n",
        "<td>Тем не менее,</td>\n",
        "<td>прагматичный подход к цифровым платформам</td>\n",
        "<td>расширяет горизонты</td>\n",
        "<td>компрометации конфиденциальных</td>\n",
        "<td>опасных экспериментов.</td>\n",
        "</tr>\n",
        "<tr>\n",
        "<td>Следовательно,</td>\n",
        "<td>совокупность сквозных технологий</td>\n",
        "<td>заставляет искать варианты</td>\n",
        "<td>универсальной коммодитизации</td>\n",
        "<td>государственно-частных партнёрств.</td>\n",
        "</tr>\n",
        "<tr>\n",
        "<td>Соответственно,</td>\n",
        "<td>программа прорывных исследований</td>\n",
        "<td>не оставляет шанса для</td>\n",
        "<td>несанкционированной кастомизации</td>\n",
        "<td>цифровых следов граждан.</td>\n",
        "</tr>\n",
        "<tr>\n",
        "<td>Вместе с тем,</td>\n",
        "<td>ускорение блокчейн-транзакций</td>\n",
        "<td>повышает вероятность</td>\n",
        "<td>нормативного регулирования</td>\n",
        "<td>нежелательных последствий.</td>\n",
        "</tr>\n",
        "<tr>\n",
        "<td>С другой стороны,</td>\n",
        "<td>экспоненциальный рост Big Data</td>\n",
        "<td>обостряет проблему</td>\n",
        "<td>практического применения</td>\n",
        "<td>внезапных открытий.</td>\n",
        "</tr>\n",
        "</table>"
      ]
    },
    {
      "cell_type": "markdown",
      "metadata": {
        "id": "MrYeVkDzq6em"
      },
      "source": [
        "Придумайте способ автоматизировать извлечение данных таблицы из этого документа.\n",
        "\n",
        "Доклад должен иметь корректное начало и несколько абзацев текста.\n",
        "\n",
        "Пример доклада показан ниже:\n",
        "\n",
        "```\n",
        "Коллеги, совокупность сквозных технологий повышает вероятность нормативного регулирования опасных экспериментов. С другой стороны, совокупность сквозных технологий несёт в себе риски нормативного регулирования внезапных открытий. Тем не менее, совокупность сквозных технологий открывает новые возможности несанкционированной кастомизации опасных экспериментов.\n",
        "\n",
        "Тем не менее, парадигма цифровой экономики открывает новые возможности практического применения цифровых следов граждан. Соответственно, совокупность сквозных технологий открывает новые возможности универсальной коммодитизации волатильных активов. Следовательно, программа прорывных исследований несёт в себе риски практического применения государственно-частных партнёрств.\n",
        "\n",
        "Следовательно, ускорение блокчейн-транзакций расширяет горизонты универсальной коммодитизации знаний и компетенций. Вместе с тем, прагматичный подход к цифровым платформам не оставляет шанса для нормативного регулирования непроверенных гипотез. Следовательно, прагматичный подход к цифровым платформам повышает вероятность бюджетного финансирования волатильных активов.\n",
        "```"
      ]
    },
    {
      "cell_type": "code",
      "execution_count": 1,
      "metadata": {
        "colab": {
          "base_uri": "https://localhost:8080/"
        },
        "id": "KHwE7gqZT4dt",
        "outputId": "8def2ede-d614-4494-ae4f-aa08e97d21ee"
      },
      "outputs": [
        {
          "output_type": "stream",
          "name": "stdout",
          "text": [
            "Тем не менее, контекст цифровой трансформации заставляет искать варианты синергетического эффекта цифровых следов граждан. \n",
            "\n",
            "\n",
            "Следовательно, программа прорывных исследований выдвигает новые требования несанкционированной кастомизации волатильных активов. \n",
            "Вместе с тем, совокупность сквозных технологий заставляет искать варианты компрометации конфиденциальных волатильных активов. \n",
            "В то же время, прагматичный подход к цифровым платформам обостряет проблему практического применения нежелательных последствий. \n",
            "\n",
            "\n",
            "Соответственно, прагматичный подход к цифровым платформам заставляет искать варианты синергетического эффекта внезапных открытий. \n",
            "Тем не менее, контекст цифровой трансформации не оставляет шанса для дальнейшего углубления государственно-частных партнёрств. \n",
            "Вместе с тем, экспоненциальный рост Big Data выдвигает новые требования универсальной коммодитизации знаний и компетенций. \n",
            "Вместе с тем, прагматичный подход к цифровым платформам обостряет проблему нормативного регулирования непроверенных гипотез. \n",
            "\n",
            "\n",
            "Тем не менее, контекст цифровой трансформации несёт в себе риски дальнейшего углубления нежелательных последствий. \n",
            "\n",
            "\n",
            "\n"
          ]
        }
      ],
      "source": [
        "import random\n",
        "\n",
        "\n",
        "TABLE_DATA = [\n",
        "    [\"Коллеги,\", \"парадигма цифровой экономики\",\n",
        "     \"открывает новые возможности для\", \"дальнейшего углубления\",\n",
        "     \"знаний и компетенций.\"],\n",
        "    [\"В то же время,\", \"контекст цифровой трансформации\",\n",
        "     \"выдвигает новые требования\", \"бюджетного финансирования\",\n",
        "     \"непроверенных гипотез.\"],\n",
        "    [\"Однако,\", \"диджитализация бизнес-процессов\",\n",
        "     \"несёт в себе риски\", \"синергетического эффекта\",\n",
        "     \"волатильных активов.\"],\n",
        "    [\"Тем не менее,\", \"прагматичный подход к цифровым платформам\",\n",
        "     \"расширяет горизонты\", \"компрометации конфиденциальных\",\n",
        "     \"опасных экспериментов.\"],\n",
        "    [\"Следовательно,\", \"совокупность сквозных технологий\",\n",
        "     \"заставляет искать варианты\", \"универсальной коммодитизации\",\n",
        "     \"государственно-частных партнёрств.\"],\n",
        "    [\"Соответственно,\", \"программа прорывных исследований\",\n",
        "     \"не оставляет шанса для\", \"несанкционированной кастомизации\",\n",
        "     \"цифровых следов граждан.\"],\n",
        "    [\"Вместе с тем,\", \"ускорение блокчейн-транзакций\",\n",
        "     \"повышает вероятность\", \"нормативного регулирования\",\n",
        "     \"нежелательных последствий.\"],\n",
        "    [\"С другой стороны,\", \"экспоненциальный рост Big Data\",\n",
        "     \"обостряет проблему\", \"практического применения\",\n",
        "     \"внезапных открытий.\"]\n",
        "]\n",
        "\n",
        "\n",
        "def create_random_sentence():\n",
        "    sentence = ''\n",
        "    random_choice = 0\n",
        "    for i in range(0, len(TABLE_DATA[random_choice])):\n",
        "        random_choice = random.randint(0, 7)\n",
        "        sentence += TABLE_DATA[random_choice][i] + ' '\n",
        "\n",
        "    return sentence\n",
        "\n",
        "\n",
        "def create_random_paragraph(sentence_count):\n",
        "    paragraph = ''\n",
        "    for i in range(1, sentence_count + 1):\n",
        "        paragraph += create_random_sentence() + '\\n'\n",
        "\n",
        "    return paragraph\n",
        "\n",
        "\n",
        "def create_random_article():\n",
        "    article = ''\n",
        "    random_paragraphs = random.randint(2, 4)\n",
        "\n",
        "    for i in range(1, random_paragraphs + 1):\n",
        "        random_sentences = random.randint(1, 5)\n",
        "        article += create_random_paragraph(random_sentences) + '\\n\\n'\n",
        "\n",
        "    return article\n",
        "\n",
        "\n",
        "article = create_random_article()\n",
        "\n",
        "\n",
        "print(article)"
      ]
    },
    {
      "cell_type": "markdown",
      "metadata": {
        "id": "Gwrjptz2q6en"
      },
      "source": [
        "**6.2.** (0.3 балла)\n",
        "\n",
        "Реализуйте генератор случайных данных ФИО. Список распространенных имен можно скачать из интернета. Фамилии необходимо генерировать самостоятельно – так, чтобы результат оказался не менее реалистичным, чем в примере ниже. Впрочем, можете попробовать генерировать и имена.\n",
        "\n",
        "Примеры работы генератора:\n",
        "\n",
        "```\n",
        "Данил А. Фуций\n",
        "Роман Д. Фецачли\n",
        "Лев Ц. Шолодяк\n",
        "Ильдар Ц. Тачасяк\n",
        "Николай Р. Мугодич\n",
        "Данила И. Табян\n",
        "Семен Л. Черев\n",
        "Самир Д. Тифомский\n",
        "Тамерлан О. Гузянц\n",
        "Святослав И. Набян\n",
        "Герман З. Семидяк\n",
        "Тамерлан К. Башко\n",
        "Назар Ш. Кунарий\n",
        "Степан Е. Гидский\n",
        "Леонид Н. Сабин\n",
        "```"
      ]
    },
    {
      "cell_type": "code",
      "execution_count": 6,
      "metadata": {
        "colab": {
          "base_uri": "https://localhost:8080/"
        },
        "id": "mAhte9OyT4d0",
        "outputId": "e2b9173c-0070-4037-e682-a7a0a624c404"
      },
      "outputs": [
        {
          "output_type": "stream",
          "name": "stdout",
          "text": [
            "Ильдар Л. Мугозянц\n"
          ]
        }
      ],
      "source": [
        "import random\n",
        "\n",
        "\n",
        "first_names = [\n",
        "    \"Данил\", \"Роман\", \"Лев\", \"Ильдар\", \"Николай\", \"Данила\", \"Семен\", \"Самир\",\n",
        "    \"Тамерлан\", \"Святослав\", \"Герман\", \"Тамерлан\", \"Назар\", \"Степан\", \"Леонид\"\n",
        "]\n",
        "\n",
        "last_name_roots = [\n",
        "    \"Фу\", \"Фецач\", \"Шоло\", \"Тача\", \"Муго\", \"Та\", \"Че\",\n",
        "    \"Тифом\", \"Гу\", \"На\", \"Семи\", \"Ба\", \"Куна\", \"Гид\", \"Са\"\n",
        "]\n",
        "\n",
        "last_name_suffixes = [\n",
        "    \"ций\", \"ли\", \"дяк\", \"сяк\", \"дич\", \"бян\", \"рев\", \"ский\",\n",
        "    \"зянц\", \"бян\", \"дяк\", \"шко\", \"рий\", \"ский\", \"бин\"\n",
        "]\n",
        "\n",
        "\n",
        "def generate_last_name():\n",
        "    random_root = last_name_roots[random.randint(0, 14)]\n",
        "    random_suffix = last_name_suffixes[random.randint(0, 14)]\n",
        "\n",
        "    surname = random_root + random_suffix\n",
        "\n",
        "    return surname\n",
        "\n",
        "\n",
        "def generate_patronymic():\n",
        "    return random.choice('ЦУКЕНГШЩЗХФЫВАПРОЛДЖЭЯЧСМИТБЮ') + '.'\n",
        "\n",
        "\n",
        "def generate_full_name():\n",
        "    random_first_name = first_names[random.randint(0, 14)] + ' '\n",
        "    random_patronymic = generate_patronymic() + ' '\n",
        "    random_last_name = generate_last_name()\n",
        "    full_name = random_first_name + random_patronymic + random_last_name\n",
        "\n",
        "    return full_name\n",
        "\n",
        "\n",
        "print(generate_full_name())"
      ]
    },
    {
      "cell_type": "markdown",
      "metadata": {
        "id": "xCxfXPyuq6er"
      },
      "source": [
        "## 7. Движок для текстовых игр\n",
        "\n",
        "**7.1.** (0.4 балла)\n",
        "\n",
        "Мир простейших текстовых игр (книг-игр, Choose Your Own Adventure) состоит из множества комнат.\n",
        "\n",
        "Каждая комната содержит:\n",
        "\n",
        "* название,\n",
        "* метку для перехода в эту комнату,\n",
        "* описание комнаты,\n",
        "* список действий со стороны игрока, приводящих к выводу сообщения и переходу в другую комнату по ее метке.\n",
        "\n",
        "В рассматриваемом движке для описания игрового мира используется подмножество формата [Markdown](https://ru.wikipedia.org/wiki/Markdown).\n",
        "\n",
        "[Вот простейшая игра](https://github.com/true-grue/kispython/blob/2262e9108a8ff0f82bee818d0a8b7ba88b3233bf//data/game.md), реализованная таким образом.\n",
        "\n",
        "Задача состоит в реализации игры подобного типа на основе языка Python. Подразумевается реализация не менее 10 комнат с заданными комнатами начала и конца игры. При этом вариант \"победы\" не обязательно предусматривается в конечной комнате.\n",
        "\n",
        "Ниже показан пример сеанса игры:\n",
        "\n",
        "```\n",
        "Начало лабиринта\n",
        "\n",
        "Вы в начале лабиринта. Сможете ли из него выбраться?\n",
        "\n",
        "1. Проход на запад.\n",
        "\n",
        "> 1\n",
        "\n",
        "...\n",
        "\n",
        "Комната №2\n",
        "\n",
        "Вы находитесь в комнате №2.\n",
        "\n",
        "1. Проход на запад.\n",
        "2. Проход на восток.\n",
        "\n",
        "> 1\n",
        "\n",
        "...\n",
        "\n",
        "Комната №3\n",
        "\n",
        "Вы находитесь в комнате №3.\n",
        "\n",
        "1. Проход на север.\n",
        "2. Проход на восток.\n",
        "\n",
        ">\n",
        "```"
      ]
    },
    {
      "cell_type": "code",
      "execution_count": 8,
      "metadata": {
        "colab": {
          "base_uri": "https://localhost:8080/"
        },
        "id": "yycIUJi2T4d4",
        "outputId": "c998554d-c664-4b2c-a14a-a3fd8dda75d8"
      },
      "outputs": [
        {
          "output_type": "stream",
          "name": "stdout",
          "text": [
            "\n",
            "Начало лабиринта\n",
            "\n",
            "Вы в начале лабиринта. Сможете ли из него выбраться?\n",
            "1. Проход на запад\n",
            "2. Проход на восток\n",
            "> 1\n",
            "\n",
            "Комната 1\n",
            "\n",
            "Вы в комнате 1. Здесь темно.\n",
            "1. Проход на север\n",
            "2. Проход на юг\n",
            "> 2\n",
            "\n",
            "Комната 4\n",
            "\n",
            "Вы в комнате 4. Здесь слышны странные звуки.\n",
            "1. Проход на север\n",
            "2. Проход на запад\n",
            "> 2\n",
            "\n",
            "Комната 7\n",
            "\n",
            "Вы в комнате 7. Здесь сразу три прохода.\n",
            "1. Проход на восток\n",
            "2. Проход на север\n",
            "3. Проход на запад\n",
            "> 3\n",
            "\n",
            "Выход\n",
            "\n",
            "Вы нашли тайный выход и выбрались из лабиринта!\n",
            "Игра окончена.\n"
          ]
        }
      ],
      "source": [
        "rooms = {\n",
        "    \"start\": {\n",
        "        \"title\": \"Начало лабиринта\",\n",
        "        \"description\": \"Вы в начале лабиринта. Сможете ли из него выбраться?\",\n",
        "        \"actions\": [(\"Проход на запад\", \"room1\"),\n",
        "                    (\"Проход на восток\", \"room2\")]\n",
        "    },\n",
        "    \"room1\": {\n",
        "        \"title\": \"Комната 1\",\n",
        "        \"description\": \"Вы в комнате 1. Здесь темно.\",\n",
        "        \"actions\": [(\"Проход на север\", \"room3\"),\n",
        "                    (\"Проход на юг\", \"room4\")]\n",
        "    },\n",
        "    \"room2\": {\n",
        "        \"title\": \"Комната 2\",\n",
        "        \"description\": \"Вы в комнате 2. Здесь сыро.\",\n",
        "        \"actions\": [(\"Проход на запад\", \"start\"),\n",
        "                    (\"Проход на север\", \"room5\")]\n",
        "    },\n",
        "    \"room3\": {\n",
        "        \"title\": \"Комната 3\",\n",
        "        \"description\": \"Вы в комнате 3. Видны следы когтей на стенах.\",\n",
        "        \"actions\": [(\"Проход на юг\", \"room1\"),\n",
        "                    (\"Проход на восток\", \"room6\")]\n",
        "    },\n",
        "    \"room4\": {\n",
        "        \"title\": \"Комната 4\",\n",
        "        \"description\": \"Вы в комнате 4. Здесь слышны странные звуки.\",\n",
        "        \"actions\": [(\"Проход на север\", \"room1\"),\n",
        "                    (\"Проход на запад\", \"room7\")]\n",
        "    },\n",
        "    \"room5\": {\n",
        "        \"title\": \"Комната 5\",\n",
        "        \"description\": \"Вы в комнате 5. Тут явно кто-то недавно был.\",\n",
        "        \"actions\": [(\"Проход на юг\", \"room2\"),\n",
        "                    (\"Проход на запад\", \"room6\")]\n",
        "    },\n",
        "    \"room6\": {\n",
        "        \"title\": \"Комната 6\",\n",
        "        \"description\": \"Вы в комнате 6. На стене нарисованы стрелки.\",\n",
        "        \"actions\": [(\"Проход на запад\", \"room3\"),\n",
        "                    (\"Проход на восток\", \"room5\"),\n",
        "                    (\"Проход на юг\", \"room8\")]\n",
        "    },\n",
        "    \"room7\": {\n",
        "        \"title\": \"Комната 7\",\n",
        "        \"description\": \"Вы в комнате 7. Здесь сразу три прохода.\",\n",
        "        \"actions\": [(\"Проход на восток\", \"room4\"),\n",
        "                    (\"Проход на север\", \"room9\"),\n",
        "                    (\"Проход на запад\", \"exit\")]  # выход\n",
        "    },\n",
        "    \"room8\": {\n",
        "        \"title\": \"Комната 8\",\n",
        "        \"description\": \"Вы в комнате 8. Здесь много паутины.\",\n",
        "        \"actions\": [(\"Проход на север\", \"room6\"),\n",
        "                    (\"Проход на восток\", \"room10\")]\n",
        "    },\n",
        "    \"room9\": {\n",
        "        \"title\": \"Комната 9\",\n",
        "        \"description\": \"Вы в комнате 9. Здесь выход, но он закрыт.\",\n",
        "        \"actions\": [(\"Проход на юг\", \"room7\")]\n",
        "    },\n",
        "    \"room10\": {\n",
        "        \"title\": \"Комната 10\",\n",
        "        \"description\": \"Вы в комнате 10. Здесь нет выхода...\",\n",
        "        \"actions\": [(\"Проход на запад\", \"room8\")]\n",
        "    },\n",
        "    \"exit\": {\n",
        "        \"title\": \"Выход\",\n",
        "        \"description\": \"Вы нашли тайный выход и выбрались из лабиринта!\",\n",
        "        \"actions\": []\n",
        "    }\n",
        "}\n",
        "\n",
        "\n",
        "def play_game(rooms, start_room):\n",
        "    current_room = start_room\n",
        "    while True:\n",
        "        room = rooms[current_room]\n",
        "        print(f\"\\n{room['title']}\\n\")\n",
        "        print(room[\"description\"])\n",
        "        if not room[\"actions\"]:\n",
        "            print(\"Игра окончена.\")\n",
        "            break\n",
        "\n",
        "        for i in range(len(room[\"actions\"])):\n",
        "            desc, _ = room[\"actions\"][i]\n",
        "            print(f\"{i + 1}. {desc}\")\n",
        "\n",
        "        choice = input(\"> \")\n",
        "        if choice.isdigit() and 1 <= int(choice) <= len(room[\"actions\"]):\n",
        "            current_room = room[\"actions\"][int(choice) - 1][1]\n",
        "        else:\n",
        "            print(\"Некорректный ввод, попробуйте снова.\")\n",
        "\n",
        "\n",
        "play_game(rooms, \"start\")"
      ]
    },
    {
      "cell_type": "markdown",
      "metadata": {
        "id": "-Y6FE8JBq6er"
      },
      "source": [
        "**7.2.** (0.5 балла)\n",
        "\n",
        "Изобразите граф игрового мира из задачи 7.1. с помощью генерации кода на языке Dot – представления инструмента [Graphviz](https://github.com/xflr6/graphviz). Также можно воспользоваться [онлайн](https://dreampuf.github.io/GraphvizOnline/#digraph%20G%20%7B%0A%0A%20%20subgraph%20cluster_0%20%7B%0A%20%20%20%20style%3Dfilled%3B%0A%20%20%20%20color%3Dlightgrey%3B%0A%20%20%20%20node%20%5Bstyle%3Dfilled%2Ccolor%3Dwhite%5D%3B%0A%20%20%20%20a0%20-%3E%20a1%20-%3E%20a2%20-%3E%20a3%3B%0A%20%20%20%20label%20%3D%20%22process%20%231%22%3B%0A%20%20%7D%0A%0A%20%20subgraph%20cluster_1%20%7B%0A%20%20%20%20node%20%5Bstyle%3Dfilled%5D%3B%0A%20%20%20%20b0%20-%3E%20b1%20-%3E%20b2%20-%3E%20b3%3B%0A%20%20%20%20label%20%3D%20%22process%20%232%22%3B%0A%20%20%20%20color%3Dblue%0A%20%20%7D%0A%20%20start%20-%3E%20a0%3B%0A%20%20start%20-%3E%20b0%3B%0A%20%20a1%20-%3E%20b3%3B%0A%20%20b2%20-%3E%20a3%3B%0A%20%20a3%20-%3E%20a0%3B%0A%20%20a3%20-%3E%20end%3B%0A%20%20b3%20-%3E%20end%3B%0A%0A%20%20start%20%5Bshape%3DMdiamond%5D%3B%0A%20%20end%20%5Bshape%3DMsquare%5D%3B%0A%7D) версией Graphviz.\n",
        "\n",
        "Пример вывода графа для [game.md](https://github.com/true-grue/kispython/blob/2262e9108a8ff0f82bee818d0a8b7ba88b3233bf//data/game.md):\n",
        "\n",
        "![](https://github.com/true-grue/kispython/blob/main/data/game_md.png?raw=1)"
      ]
    },
    {
      "cell_type": "code",
      "execution_count": 1,
      "metadata": {
        "colab": {
          "base_uri": "https://localhost:8080/",
          "height": 452
        },
        "id": "-VW20zrBT4fb",
        "outputId": "41bae9a8-3136-4657-bc60-6963deba4709"
      },
      "outputs": [
        {
          "output_type": "display_data",
          "data": {
            "image/svg+xml": "<?xml version=\"1.0\" encoding=\"UTF-8\" standalone=\"no\"?>\n<!DOCTYPE svg PUBLIC \"-//W3C//DTD SVG 1.1//EN\"\n \"http://www.w3.org/Graphics/SVG/1.1/DTD/svg11.dtd\">\n<!-- Generated by graphviz version 2.43.0 (0)\n -->\n<!-- Title: GameWorld Pages: 1 -->\n<svg width=\"902pt\" height=\"323pt\"\n viewBox=\"0.00 0.00 902.00 323.00\" xmlns=\"http://www.w3.org/2000/svg\" xmlns:xlink=\"http://www.w3.org/1999/xlink\">\n<g id=\"graph0\" class=\"graph\" transform=\"scale(1 1) rotate(0) translate(4 319)\">\n<title>GameWorld</title>\n<polygon fill=\"white\" stroke=\"transparent\" points=\"-4,4 -4,-319 898,-319 898,4 -4,4\"/>\n<!-- start -->\n<g id=\"node1\" class=\"node\">\n<title>start</title>\n<polygon fill=\"lightgray\" stroke=\"black\" points=\"123,-56 0,-56 0,-20 123,-20 123,-56\"/>\n<text text-anchor=\"middle\" x=\"61.5\" y=\"-34.3\" font-family=\"Times,serif\" font-size=\"14.00\">Начало лабиринта</text>\n</g>\n<!-- room1 -->\n<g id=\"node2\" class=\"node\">\n<title>room1</title>\n<polygon fill=\"lightgray\" stroke=\"black\" points=\"270,-144 193,-144 193,-108 270,-108 270,-144\"/>\n<text text-anchor=\"middle\" x=\"231.5\" y=\"-122.3\" font-family=\"Times,serif\" font-size=\"14.00\">Комната 1</text>\n</g>\n<!-- start&#45;&gt;room1 -->\n<g id=\"edge1\" class=\"edge\">\n<title>start&#45;&gt;room1</title>\n<path fill=\"none\" stroke=\"black\" d=\"M96.9,-56.02C122.86,-69.62 158.67,-88.38 186.68,-103.05\"/>\n<polygon fill=\"black\" stroke=\"black\" points=\"185.37,-106.31 195.86,-107.85 188.62,-100.11 185.37,-106.31\"/>\n<text text-anchor=\"middle\" x=\"158\" y=\"-98.8\" font-family=\"Times,serif\" font-size=\"14.00\">Запад</text>\n</g>\n<!-- room2 -->\n<g id=\"node3\" class=\"node\">\n<title>room2</title>\n<polygon fill=\"lightgray\" stroke=\"black\" points=\"890.5,-73 813.5,-73 813.5,-37 890.5,-37 890.5,-73\"/>\n<text text-anchor=\"middle\" x=\"852\" y=\"-51.3\" font-family=\"Times,serif\" font-size=\"14.00\">Комната 2</text>\n</g>\n<!-- start&#45;&gt;room2 -->\n<g id=\"edge2\" class=\"edge\">\n<title>start&#45;&gt;room2</title>\n<path fill=\"none\" stroke=\"black\" d=\"M123.15,-38C155.09,-38 194.92,-38 230.5,-38 230.5,-38 230.5,-38 693.5,-38 730.44,-38 771.97,-42.68 803.11,-47.13\"/>\n<polygon fill=\"black\" stroke=\"black\" points=\"802.85,-50.63 813.25,-48.62 803.87,-43.7 802.85,-50.63\"/>\n<text text-anchor=\"middle\" x=\"458.5\" y=\"-41.8\" font-family=\"Times,serif\" font-size=\"14.00\">Восток</text>\n</g>\n<!-- room3 -->\n<g id=\"node4\" class=\"node\">\n<title>room3</title>\n<polygon fill=\"lightgray\" stroke=\"black\" points=\"419,-136 342,-136 342,-100 419,-100 419,-136\"/>\n<text text-anchor=\"middle\" x=\"380.5\" y=\"-114.3\" font-family=\"Times,serif\" font-size=\"14.00\">Комната 3</text>\n</g>\n<!-- room1&#45;&gt;room3 -->\n<g id=\"edge3\" class=\"edge\">\n<title>room1&#45;&gt;room3</title>\n<path fill=\"none\" stroke=\"black\" d=\"M270.36,-123.94C289.05,-122.92 311.79,-121.68 331.67,-120.6\"/>\n<polygon fill=\"black\" stroke=\"black\" points=\"331.98,-124.09 341.77,-120.05 331.6,-117.1 331.98,-124.09\"/>\n<text text-anchor=\"middle\" x=\"306\" y=\"-125.8\" font-family=\"Times,serif\" font-size=\"14.00\">Север</text>\n</g>\n<!-- room4 -->\n<g id=\"node5\" class=\"node\">\n<title>room4</title>\n<polygon fill=\"lightgray\" stroke=\"black\" points=\"419,-220 342,-220 342,-184 419,-184 419,-220\"/>\n<text text-anchor=\"middle\" x=\"380.5\" y=\"-198.3\" font-family=\"Times,serif\" font-size=\"14.00\">Комната 4</text>\n</g>\n<!-- room1&#45;&gt;room4 -->\n<g id=\"edge4\" class=\"edge\">\n<title>room1&#45;&gt;room4</title>\n<path fill=\"none\" stroke=\"black\" d=\"M246.65,-144.13C256.89,-156.05 271.75,-171.04 288,-180 301.37,-187.37 317.17,-192.29 331.84,-195.57\"/>\n<polygon fill=\"black\" stroke=\"black\" points=\"331.28,-199.03 341.78,-197.59 332.67,-192.17 331.28,-199.03\"/>\n<text text-anchor=\"middle\" x=\"306\" y=\"-196.8\" font-family=\"Times,serif\" font-size=\"14.00\">Юг</text>\n</g>\n<!-- room2&#45;&gt;start -->\n<g id=\"edge6\" class=\"edge\">\n<title>room2&#45;&gt;start</title>\n<path fill=\"none\" stroke=\"black\" d=\"M819.55,-36.99C788.53,-20.95 739.26,0 693.5,0 230.5,0 230.5,0 230.5,0 194.88,0 156.04,-8.23 124.68,-17.02\"/>\n<polygon fill=\"black\" stroke=\"black\" points=\"123.41,-13.75 114.78,-19.89 125.36,-20.47 123.41,-13.75\"/>\n<text text-anchor=\"middle\" x=\"458.5\" y=\"-3.8\" font-family=\"Times,serif\" font-size=\"14.00\">Запад</text>\n</g>\n<!-- room5 -->\n<g id=\"node6\" class=\"node\">\n<title>room5</title>\n<polygon fill=\"lightgray\" stroke=\"black\" points=\"731,-108 654,-108 654,-72 731,-72 731,-108\"/>\n<text text-anchor=\"middle\" x=\"692.5\" y=\"-86.3\" font-family=\"Times,serif\" font-size=\"14.00\">Комната 5</text>\n</g>\n<!-- room2&#45;&gt;room5 -->\n<g id=\"edge5\" class=\"edge\">\n<title>room2&#45;&gt;room5</title>\n<path fill=\"none\" stroke=\"black\" d=\"M813.43,-59.9C794.04,-62.77 770.1,-66.85 749,-72 746.37,-72.64 743.68,-73.35 740.98,-74.09\"/>\n<polygon fill=\"black\" stroke=\"black\" points=\"739.82,-70.79 731.2,-76.94 741.78,-77.51 739.82,-70.79\"/>\n<text text-anchor=\"middle\" x=\"770.5\" y=\"-75.8\" font-family=\"Times,serif\" font-size=\"14.00\">Север</text>\n</g>\n<!-- room3&#45;&gt;room1 -->\n<g id=\"edge7\" class=\"edge\">\n<title>room3&#45;&gt;room1</title>\n<path fill=\"none\" stroke=\"black\" d=\"M341.56,-104.92C325.06,-100.9 305.53,-98.37 288,-102 284.76,-102.67 281.48,-103.54 278.21,-104.55\"/>\n<polygon fill=\"black\" stroke=\"black\" points=\"276.81,-101.33 268.53,-107.93 279.12,-107.94 276.81,-101.33\"/>\n<text text-anchor=\"middle\" x=\"306\" y=\"-105.8\" font-family=\"Times,serif\" font-size=\"14.00\">Юг</text>\n</g>\n<!-- room6 -->\n<g id=\"node7\" class=\"node\">\n<title>room6</title>\n<polygon fill=\"lightgray\" stroke=\"black\" points=\"575,-131 498,-131 498,-95 575,-95 575,-131\"/>\n<text text-anchor=\"middle\" x=\"536.5\" y=\"-109.3\" font-family=\"Times,serif\" font-size=\"14.00\">Комната 6</text>\n</g>\n<!-- room3&#45;&gt;room6 -->\n<g id=\"edge8\" class=\"edge\">\n<title>room3&#45;&gt;room6</title>\n<path fill=\"none\" stroke=\"black\" d=\"M419.17,-116.78C439.85,-116.11 465.7,-115.27 487.78,-114.55\"/>\n<polygon fill=\"black\" stroke=\"black\" points=\"488.07,-118.04 497.95,-114.22 487.84,-111.05 488.07,-118.04\"/>\n<text text-anchor=\"middle\" x=\"458.5\" y=\"-119.8\" font-family=\"Times,serif\" font-size=\"14.00\">Восток</text>\n</g>\n<!-- room4&#45;&gt;room1 -->\n<g id=\"edge10\" class=\"edge\">\n<title>room4&#45;&gt;room1</title>\n<path fill=\"none\" stroke=\"black\" d=\"M358.01,-184C348.08,-176.25 335.87,-167.5 324,-161 310.18,-153.44 294.38,-146.76 279.85,-141.33\"/>\n<polygon fill=\"black\" stroke=\"black\" points=\"280.62,-137.89 270.03,-137.77 278.23,-144.47 280.62,-137.89\"/>\n<text text-anchor=\"middle\" x=\"306\" y=\"-164.8\" font-family=\"Times,serif\" font-size=\"14.00\">Север</text>\n</g>\n<!-- room7 -->\n<g id=\"node8\" class=\"node\">\n<title>room7</title>\n<polygon fill=\"lightgray\" stroke=\"black\" points=\"575,-258 498,-258 498,-222 575,-222 575,-258\"/>\n<text text-anchor=\"middle\" x=\"536.5\" y=\"-236.3\" font-family=\"Times,serif\" font-size=\"14.00\">Комната 7</text>\n</g>\n<!-- room4&#45;&gt;room7 -->\n<g id=\"edge9\" class=\"edge\">\n<title>room4&#45;&gt;room7</title>\n<path fill=\"none\" stroke=\"black\" d=\"M419.03,-213.16C425.03,-214.84 431.17,-216.51 437,-218 453.59,-222.24 471.87,-226.45 488.12,-230.03\"/>\n<polygon fill=\"black\" stroke=\"black\" points=\"487.44,-233.46 497.95,-232.18 488.93,-226.62 487.44,-233.46\"/>\n<text text-anchor=\"middle\" x=\"458.5\" y=\"-230.8\" font-family=\"Times,serif\" font-size=\"14.00\">Запад</text>\n</g>\n<!-- room5&#45;&gt;room2 -->\n<g id=\"edge12\" class=\"edge\">\n<title>room5&#45;&gt;room2</title>\n<path fill=\"none\" stroke=\"black\" d=\"M731.05,-92.9C749.68,-93.33 772.34,-92.31 792,-87 799.75,-84.91 807.61,-81.62 814.94,-77.94\"/>\n<polygon fill=\"black\" stroke=\"black\" points=\"816.76,-80.93 823.92,-73.12 813.45,-74.77 816.76,-80.93\"/>\n<text text-anchor=\"middle\" x=\"770.5\" y=\"-95.8\" font-family=\"Times,serif\" font-size=\"14.00\">Юг</text>\n</g>\n<!-- room5&#45;&gt;room6 -->\n<g id=\"edge11\" class=\"edge\">\n<title>room5&#45;&gt;room6</title>\n<path fill=\"none\" stroke=\"black\" d=\"M653.95,-74.49C635.31,-68.96 612.65,-65.53 593,-72 582.48,-75.46 572.32,-81.77 563.63,-88.42\"/>\n<polygon fill=\"black\" stroke=\"black\" points=\"561.33,-85.78 555.79,-94.82 565.75,-91.21 561.33,-85.78\"/>\n<text text-anchor=\"middle\" x=\"614.5\" y=\"-75.8\" font-family=\"Times,serif\" font-size=\"14.00\">Запад</text>\n</g>\n<!-- room6&#45;&gt;room3 -->\n<g id=\"edge13\" class=\"edge\">\n<title>room6&#45;&gt;room3</title>\n<path fill=\"none\" stroke=\"black\" d=\"M497.97,-99.09C492.03,-97.39 485.9,-95.93 480,-95 461.12,-92.02 455.74,-91.27 437,-95 434.31,-95.54 431.59,-96.2 428.87,-96.97\"/>\n<polygon fill=\"black\" stroke=\"black\" points=\"427.54,-93.72 419.1,-100.13 429.69,-100.38 427.54,-93.72\"/>\n<text text-anchor=\"middle\" x=\"458.5\" y=\"-98.8\" font-family=\"Times,serif\" font-size=\"14.00\">Запад</text>\n</g>\n<!-- room6&#45;&gt;room5 -->\n<g id=\"edge14\" class=\"edge\">\n<title>room6&#45;&gt;room5</title>\n<path fill=\"none\" stroke=\"black\" d=\"M575.17,-107.37C595.85,-104.29 621.7,-100.42 643.78,-97.13\"/>\n<polygon fill=\"black\" stroke=\"black\" points=\"644.58,-100.55 653.95,-95.61 643.54,-93.62 644.58,-100.55\"/>\n<text text-anchor=\"middle\" x=\"614.5\" y=\"-107.8\" font-family=\"Times,serif\" font-size=\"14.00\">Восток</text>\n</g>\n<!-- room8 -->\n<g id=\"node9\" class=\"node\">\n<title>room8</title>\n<polygon fill=\"lightgray\" stroke=\"black\" points=\"731,-168 654,-168 654,-132 731,-132 731,-168\"/>\n<text text-anchor=\"middle\" x=\"692.5\" y=\"-146.3\" font-family=\"Times,serif\" font-size=\"14.00\">Комната 8</text>\n</g>\n<!-- room6&#45;&gt;room8 -->\n<g id=\"edge15\" class=\"edge\">\n<title>room6&#45;&gt;room8</title>\n<path fill=\"none\" stroke=\"black\" d=\"M551.58,-131.24C561.69,-142.76 576.41,-156.63 593,-163 609,-169.15 627.42,-168.56 643.97,-165.54\"/>\n<polygon fill=\"black\" stroke=\"black\" points=\"644.96,-168.91 654,-163.39 643.49,-162.07 644.96,-168.91\"/>\n<text text-anchor=\"middle\" x=\"614.5\" y=\"-170.8\" font-family=\"Times,serif\" font-size=\"14.00\">Юг</text>\n</g>\n<!-- room7&#45;&gt;room4 -->\n<g id=\"edge18\" class=\"edge\">\n<title>room7&#45;&gt;room4</title>\n<path fill=\"none\" stroke=\"black\" d=\"M517.21,-221.82C507.14,-213.1 493.88,-203.57 480,-199 464.14,-193.78 446.05,-192.97 429.74,-193.98\"/>\n<polygon fill=\"black\" stroke=\"black\" points=\"428.99,-190.53 419.32,-194.87 429.58,-197.5 428.99,-190.53\"/>\n<text text-anchor=\"middle\" x=\"458.5\" y=\"-202.8\" font-family=\"Times,serif\" font-size=\"14.00\">Восток</text>\n</g>\n<!-- room9 -->\n<g id=\"node10\" class=\"node\">\n<title>room9</title>\n<polygon fill=\"lightgray\" stroke=\"black\" points=\"731,-315 654,-315 654,-279 731,-279 731,-315\"/>\n<text text-anchor=\"middle\" x=\"692.5\" y=\"-293.3\" font-family=\"Times,serif\" font-size=\"14.00\">Комната 9</text>\n</g>\n<!-- room7&#45;&gt;room9 -->\n<g id=\"edge16\" class=\"edge\">\n<title>room7&#45;&gt;room9</title>\n<path fill=\"none\" stroke=\"black\" d=\"M560.39,-258.18C569.99,-265 581.56,-272.24 593,-277 608.88,-283.6 627.13,-288.09 643.57,-291.1\"/>\n<polygon fill=\"black\" stroke=\"black\" points=\"643.09,-294.57 653.54,-292.8 644.27,-287.67 643.09,-294.57\"/>\n<text text-anchor=\"middle\" x=\"614.5\" y=\"-292.8\" font-family=\"Times,serif\" font-size=\"14.00\">Север</text>\n</g>\n<!-- exit -->\n<g id=\"node12\" class=\"node\">\n<title>exit</title>\n<ellipse fill=\"lightgreen\" stroke=\"black\" cx=\"692.5\" cy=\"-223\" rx=\"36.29\" ry=\"36.29\"/>\n<text text-anchor=\"middle\" x=\"692.5\" y=\"-219.3\" font-family=\"Times,serif\" font-size=\"14.00\">Выход</text>\n</g>\n<!-- room7&#45;&gt;exit -->\n<g id=\"edge17\" class=\"edge\">\n<title>room7&#45;&gt;exit</title>\n<path fill=\"none\" stroke=\"black\" d=\"M575.12,-227.68C581.04,-226.17 587.15,-224.86 593,-224 610.1,-221.5 629.04,-220.81 645.71,-220.9\"/>\n<polygon fill=\"black\" stroke=\"black\" points=\"645.71,-224.4 655.76,-221.05 645.81,-217.4 645.71,-224.4\"/>\n<text text-anchor=\"middle\" x=\"614.5\" y=\"-227.8\" font-family=\"Times,serif\" font-size=\"14.00\">Запад</text>\n</g>\n<!-- room8&#45;&gt;room6 -->\n<g id=\"edge19\" class=\"edge\">\n<title>room8&#45;&gt;room6</title>\n<path fill=\"none\" stroke=\"black\" d=\"M653.95,-140.98C633.2,-135.99 607.21,-129.75 585.05,-124.42\"/>\n<polygon fill=\"black\" stroke=\"black\" points=\"585.71,-120.98 575.17,-122.05 584.08,-127.79 585.71,-120.98\"/>\n<text text-anchor=\"middle\" x=\"614.5\" y=\"-138.8\" font-family=\"Times,serif\" font-size=\"14.00\">Север</text>\n</g>\n<!-- room10 -->\n<g id=\"node11\" class=\"node\">\n<title>room10</title>\n<polygon fill=\"lightgray\" stroke=\"black\" points=\"894,-186 810,-186 810,-150 894,-150 894,-186\"/>\n<text text-anchor=\"middle\" x=\"852\" y=\"-164.3\" font-family=\"Times,serif\" font-size=\"14.00\">Комната 10</text>\n</g>\n<!-- room8&#45;&gt;room10 -->\n<g id=\"edge20\" class=\"edge\">\n<title>room8&#45;&gt;room10</title>\n<path fill=\"none\" stroke=\"black\" d=\"M731.17,-161.45C737.09,-162.88 743.17,-164.14 749,-165 765.25,-167.4 783.1,-168.46 799.27,-168.83\"/>\n<polygon fill=\"black\" stroke=\"black\" points=\"799.56,-172.33 809.61,-168.98 799.67,-165.33 799.56,-172.33\"/>\n<text text-anchor=\"middle\" x=\"770.5\" y=\"-171.8\" font-family=\"Times,serif\" font-size=\"14.00\">Восток</text>\n</g>\n<!-- room9&#45;&gt;room7 -->\n<g id=\"edge21\" class=\"edge\">\n<title>room9&#45;&gt;room7</title>\n<path fill=\"none\" stroke=\"black\" d=\"M667.82,-278.84C655.97,-270.06 642.73,-260.82 636,-258 620.07,-251.33 601.66,-247.12 585.1,-244.47\"/>\n<polygon fill=\"black\" stroke=\"black\" points=\"585.47,-240.99 575.07,-243.02 584.46,-247.92 585.47,-240.99\"/>\n<text text-anchor=\"middle\" x=\"614.5\" y=\"-261.8\" font-family=\"Times,serif\" font-size=\"14.00\">Юг</text>\n</g>\n<!-- room10&#45;&gt;room8 -->\n<g id=\"edge22\" class=\"edge\">\n<title>room10&#45;&gt;room8</title>\n<path fill=\"none\" stroke=\"black\" d=\"M809.94,-150.58C804.02,-148.69 797.92,-147.07 792,-146 775.7,-143.06 757.64,-142.91 741.49,-143.87\"/>\n<polygon fill=\"black\" stroke=\"black\" points=\"740.9,-140.41 731.18,-144.64 741.42,-147.39 740.9,-140.41\"/>\n<text text-anchor=\"middle\" x=\"770.5\" y=\"-149.8\" font-family=\"Times,serif\" font-size=\"14.00\">Запад</text>\n</g>\n</g>\n</svg>\n",
            "text/plain": [
              "<graphviz.graphs.Digraph at 0x78ddeef3b050>"
            ]
          },
          "metadata": {}
        }
      ],
      "source": [
        "from graphviz import Digraph\n",
        "\n",
        "\n",
        "def create_game_world_graph():\n",
        "    dot = Digraph(\"GameWorld\")\n",
        "    dot.attr(rankdir=\"LR\")\n",
        "\n",
        "    rooms = {\n",
        "        \"start\": \"Начало лабиринта\",\n",
        "        \"room1\": \"Комната 1\",\n",
        "        \"room2\": \"Комната 2\",\n",
        "        \"room3\": \"Комната 3\",\n",
        "        \"room4\": \"Комната 4\",\n",
        "        \"room5\": \"Комната 5\",\n",
        "        \"room6\": \"Комната 6\",\n",
        "        \"room7\": \"Комната 7\",\n",
        "        \"room8\": \"Комната 8\",\n",
        "        \"room9\": \"Комната 9\",\n",
        "        \"room10\": \"Комната 10\",\n",
        "        \"exit\": \"Выход\"\n",
        "    }\n",
        "\n",
        "    connections = [\n",
        "        (\"start\", \"room1\", \"Запад\"),\n",
        "        (\"start\", \"room2\", \"Восток\"),\n",
        "        (\"room1\", \"room3\", \"Север\"),\n",
        "        (\"room1\", \"room4\", \"Юг\"),\n",
        "        (\"room2\", \"room5\", \"Север\"),\n",
        "        (\"room2\", \"start\", \"Запад\"),\n",
        "        (\"room3\", \"room1\", \"Юг\"),\n",
        "        (\"room3\", \"room6\", \"Восток\"),\n",
        "        (\"room4\", \"room7\", \"Запад\"),\n",
        "        (\"room4\", \"room1\", \"Север\"),\n",
        "        (\"room5\", \"room6\", \"Запад\"),\n",
        "        (\"room5\", \"room2\", \"Юг\"),\n",
        "        (\"room6\", \"room3\", \"Запад\"),\n",
        "        (\"room6\", \"room5\", \"Восток\"),\n",
        "        (\"room6\", \"room8\", \"Юг\"),\n",
        "        (\"room7\", \"room9\", \"Север\"),\n",
        "        (\"room7\", \"exit\", \"Запад\"),\n",
        "        (\"room7\", \"room4\", \"Восток\"),\n",
        "        (\"room8\", \"room6\", \"Север\"),\n",
        "        (\"room8\", \"room10\", \"Восток\"),\n",
        "        (\"room9\", \"room7\", \"Юг\"),\n",
        "        (\"room10\", \"room8\", \"Запад\")\n",
        "    ]\n",
        "\n",
        "    for key, label in rooms.items():\n",
        "        clr = \"lightgray\"\n",
        "        shp = \"box\"\n",
        "        if key == \"exit\":\n",
        "            clr = \"lightgreen\"\n",
        "            shp = \"circle\"\n",
        "        dot.node(key, label, shape=shp, style=\"filled\", fillcolor=clr)\n",
        "\n",
        "\n",
        "    for room_from, room_to, label in connections:\n",
        "        dot.edge(room_from, room_to, label=label)\n",
        "\n",
        "    dot.render(\"game_world\", format=\"png\", cleanup=False)\n",
        "    return dot\n",
        "\n",
        "\n",
        "display(create_game_world_graph())"
      ]
    },
    {
      "cell_type": "markdown",
      "metadata": {
        "id": "huzXVJC2q6es"
      },
      "source": [
        "**7.3.** (0.5 балла)\n",
        "\n",
        "Реализуйте инструмент для автоматической проверки игрового мира из задачи 7.1. на наличие тупиков – мест, из которых нельзя добраться до завершения игры."
      ]
    },
    {
      "cell_type": "code",
      "execution_count": 10,
      "metadata": {
        "colab": {
          "base_uri": "https://localhost:8080/"
        },
        "id": "2UTbKfgLT4fh",
        "outputId": "87c03079-e68f-4058-ec37-a2640c57167d"
      },
      "outputs": [
        {
          "output_type": "stream",
          "name": "stdout",
          "text": [
            "Найдены тупиковые комнаты:\n",
            "room8 — Комната 8\n",
            "room10 — Комната 10\n",
            "room9 — Комната 9\n"
          ]
        }
      ],
      "source": [
        "rooms = {\n",
        "    \"start\": {\n",
        "        \"title\": \"Начало лабиринта\",\n",
        "        \"description\": \"Вы в начале лабиринта. Сможете ли из него выбраться?\",\n",
        "        \"actions\": [(\"Проход на запад\", \"room1\"),\n",
        "                    (\"Проход на восток\", \"room2\")]\n",
        "    },\n",
        "    \"room1\": {\n",
        "        \"title\": \"Комната 1\",\n",
        "        \"description\": \"Вы в комнате 1. Здесь темно.\",\n",
        "        \"actions\": [(\"Проход на север\", \"room3\"),\n",
        "                    (\"Проход на юг\", \"room4\")]\n",
        "    },\n",
        "    \"room2\": {\n",
        "        \"title\": \"Комната 2\",\n",
        "        \"description\": \"Вы в комнате 2. Здесь сыро.\",\n",
        "        \"actions\": [(\"Проход на запад\", \"start\"),\n",
        "                    (\"Проход на север\", \"room5\")]\n",
        "    },\n",
        "    \"room3\": {\n",
        "        \"title\": \"Комната 3\",\n",
        "        \"description\": \"Вы в комнате 3. Видны следы когтей на стенах.\",\n",
        "        \"actions\": [(\"Проход на юг\", \"room1\"),\n",
        "                    (\"Проход на восток\", \"room6\")]\n",
        "    },\n",
        "    \"room4\": {\n",
        "        \"title\": \"Комната 4\",\n",
        "        \"description\": \"Вы в комнате 4. Здесь слышны странные звуки.\",\n",
        "        \"actions\": [(\"Проход на север\", \"room1\"),\n",
        "                    (\"Проход на запад\", \"room7\")]\n",
        "    },\n",
        "    \"room5\": {\n",
        "        \"title\": \"Комната 5\",\n",
        "        \"description\": \"Вы в комнате 5. Тут явно кто-то недавно был.\",\n",
        "        \"actions\": [(\"Проход на юг\", \"room2\"),\n",
        "                    (\"Проход на запад\", \"room6\")]\n",
        "    },\n",
        "    \"room6\": {\n",
        "        \"title\": \"Комната 6\",\n",
        "        \"description\": \"Вы в комнате 6. На стене нарисованы стрелки.\",\n",
        "        \"actions\": [(\"Проход на запад\", \"room3\"),\n",
        "                    (\"Проход на восток\", \"room5\"),\n",
        "                    (\"Проход на юг\", \"room8\")]\n",
        "    },\n",
        "    \"room7\": {\n",
        "        \"title\": \"Комната 7\",\n",
        "        \"description\": \"Вы в комнате 7. Здесь сразу три прохода.\",\n",
        "        \"actions\": [(\"Проход на восток\", \"room4\"),\n",
        "                    (\"Проход на север\", \"room9\"),\n",
        "                    (\"Проход на запад\", \"exit\")]  # выход\n",
        "    },\n",
        "    \"room8\": {\n",
        "        \"title\": \"Комната 8\",\n",
        "        \"description\": \"Вы в комнате 8. Здесь много паутины.\",\n",
        "        \"actions\": [(\"Проход на север\", \"room6\"),\n",
        "                    (\"Проход на восток\", \"room10\")]\n",
        "    },\n",
        "    \"room9\": {\n",
        "        \"title\": \"Комната 9\",\n",
        "        \"description\": \"Вы в комнате 9. Здесь выход, но он закрыт.\",\n",
        "        \"actions\": [(\"Проход на юг\", \"room7\")]\n",
        "    },\n",
        "    \"room10\": {\n",
        "        \"title\": \"Комната 10\",\n",
        "        \"description\": \"Вы в комнате 10. Здесь нет выхода...\",\n",
        "        \"actions\": [(\"Проход на запад\", \"room8\")]\n",
        "    },\n",
        "    \"exit\": {\n",
        "        \"title\": \"Выход\",\n",
        "        \"description\": \"Вы нашли тайный выход и выбрались из лабиринта!\",\n",
        "        \"actions\": []\n",
        "    }\n",
        "}\n",
        "\n",
        "\n",
        "def can_reach_exit(room, prev, memo, visited):\n",
        "    \"\"\"\n",
        "    Рекурсивно определяет, можно ли из состояния (room, prev) добраться до \"exit\",\n",
        "    выбирая только ходы, отличные от возврата назад (т.е. перехода в prev).\n",
        "    memo – словарь для мемоизации, visited – для обнаружения циклов.\n",
        "    \"\"\"\n",
        "    if room == \"exit\":\n",
        "        return True\n",
        "\n",
        "    state = (room, prev)\n",
        "    if state in memo:\n",
        "        return memo[state]\n",
        "    if state in visited:\n",
        "        return False\n",
        "\n",
        "    visited.add(state)\n",
        "    allowed_moves = []\n",
        "    for action, next_room in rooms[room]['actions']:\n",
        "        if next_room != prev:\n",
        "            allowed_moves.append(next_room)\n",
        "    if not allowed_moves:\n",
        "        result = False\n",
        "    else:\n",
        "        result = any(can_reach_exit(next_room, room, memo, visited) for next_room in allowed_moves)\n",
        "    visited.remove(state)\n",
        "    memo[state] = result\n",
        "    return result\n",
        "\n",
        "\n",
        "def get_reachable_states(start_state):\n",
        "    \"\"\"\n",
        "    Обходит пространство состояний, доступных при игре.\n",
        "    Состояние задаётся парой (комната, предыдущая комната).\n",
        "    \"\"\"\n",
        "    reachable_states = set()\n",
        "    stack = [start_state]\n",
        "    while stack:\n",
        "        state = stack.pop()\n",
        "        if state in reachable_states:\n",
        "            continue\n",
        "        reachable_states.add(state)\n",
        "        room, prev = state\n",
        "        for action, next_room in rooms[room]['actions']:\n",
        "            if next_room != prev:\n",
        "                next_state = (next_room, room)\n",
        "                if next_state not in reachable_states:\n",
        "                    stack.append(next_state)\n",
        "    return reachable_states\n",
        "\n",
        "\n",
        "reachable_states = get_reachable_states((\"start\", None))\n",
        "\n",
        "memo = {}\n",
        "state_results = {}\n",
        "for state in reachable_states:\n",
        "    room, prev = state\n",
        "    state_results[state] = can_reach_exit(room, prev, memo, set())\n",
        "\n",
        "rooms_states = {}\n",
        "for (room, prev), win in state_results.items():\n",
        "    rooms_states.setdefault(room, []).append(win)\n",
        "\n",
        "dead_end_rooms = [room for room, wins in rooms_states.items() if all(not w for w in wins)]\n",
        "\n",
        "if dead_end_rooms:\n",
        "    print(\"Найдены тупиковые комнаты:\")\n",
        "    for room in dead_end_rooms:\n",
        "        print(f\"{room} — {rooms[room]['title']}\")\n",
        "else:\n",
        "    print(\"Тупиковых комнат не обнаружено.\")"
      ]
    },
    {
      "cell_type": "markdown",
      "metadata": {
        "id": "8fkXjBk5p2N_"
      },
      "source": [
        "***Распределение сложных задач:***\n",
        "\n",
        "**Задача 1 (если не успеваем на занятии):** 5.1. + 5.2. + 5.3. - итого 0.8 балла.\n",
        "\n",
        "**Задача 2:** 6.1. + 6.2. - итого 0.6 балла.\n",
        "\n",
        "**Задача 3:** 7.1. + 7.2. + 7.3. - итого 1.4 балла."
      ]
    }
  ],
  "metadata": {
    "colab": {
      "provenance": [],
      "include_colab_link": true
    },
    "kernelspec": {
      "display_name": "Python 3",
      "language": "python",
      "name": "python3"
    },
    "language_info": {
      "codemirror_mode": {
        "name": "ipython",
        "version": 3
      },
      "file_extension": ".py",
      "mimetype": "text/x-python",
      "name": "python",
      "nbconvert_exporter": "python",
      "pygments_lexer": "ipython3",
      "version": "3.12.9"
    },
    "orig_nbformat": 4,
    "vscode": {
      "interpreter": {
        "hash": "61dfe9c682d93c0afd147a4694a60871cd02680c76d00a06359d9b0f9ffcab18"
      }
    }
  },
  "nbformat": 4,
  "nbformat_minor": 0
}